{
 "cells": [
  {
   "cell_type": "markdown",
   "metadata": {
    "deletable": true,
    "editable": true
   },
   "source": [
    "# Problem Set 5\n",
    "Designed by Ben Usman, Sarah Adel Bargal, and Brian Kulis, with help from Kun He and Kate Saenko.\n",
    "\n",
    "This assignment will introduce you to:\n",
    "\n",
    "1. implementation of RNN and LSTM\n",
    "2. training your implemented LSTM\n",
    "3. deriving multi-modal Restricted Boltzmann Machines"
   ]
  },
  {
   "cell_type": "markdown",
   "metadata": {
    "deletable": true,
    "editable": true
   },
   "source": [
    "## Part 1: RNN Example\n",
    "\n",
    "(10 points)\n",
    "\n",
    "In this example we train an RNN to infer the parameters of a simple dynamical system.\n",
    "First, we simulate a dynamical system with known parameters (random numbers), and use it to generate outputs. Then, we train an RNN on the generated datapoints, attempting to infer the original parameters.\n",
    "You are expected to run and study the provided code, which will be helpful for the second part (implementing LSTM).\n",
    "\n",
    "1. We define a discretized [dynamical system](https://en.wikipedia.org/wiki/Dynamical_system).\n",
    "At each discrete time $t$, the system observes input $x_t$. The system maintains some \"state\" $h_t$, which will be updated over time.\n",
    "Specifically, the states are updated by the following rule: $h_t = \\max(0, 1-(Wx_t+h_{t-1}))$, where $W$ is a parameter matrix.\n",
    "2. In this example, the input data $\\{x_t\\}$ is randomly generated, and the weight matrix $W$ is also drawn randomly. The system starts from an initial hidden state $h_0$, and runs for $t=1,\\ldots,T$.\n",
    "3. Given the sequence of states $\\{h_1,\\ldots,h_T\\}$, we would like to infer the weights $W$.\n",
    "\n",
    "To start with, the following code segment generates and displays the data.\n",
    "Refer to `data_generator.py` for details of data generation."
   ]
  },
  {
   "cell_type": "code",
   "execution_count": 1,
   "metadata": {
    "collapsed": false,
    "deletable": true,
    "editable": true,
    "scrolled": true
   },
   "outputs": [
    {
     "name": "stdout",
     "output_type": "stream",
     "text": [
      "variable name, shape, min, max: \n",
      "h0 (10,) -2.15721594153 1.7898030515\n",
      "w (10, 10) -3.01726099526 2.52731760357\n",
      "x (100, 10) -3.02251520051 3.06425587805\n"
     ]
    },
    {
     "data": {
      "image/png": "[encoded data removed]",
      "text/plain": [
       "<matplotlib.figure.Figure at 0x2b199ace5828>"
      ]
     },
     "metadata": {},
     "output_type": "display_data"
    }
   ],
   "source": [
    "# Here we present sample data generated \n",
    "import numpy as np\n",
    "import data_generator\n",
    "import matplotlib.pyplot as plt\n",
    "\n",
    "(h_0, w), x, h = data_generator._build_rnn_testdata_matrix()\n",
    "\n",
    "print('variable name, shape, min, max: ')\n",
    "for v, name in zip([h_0, w, x], ['h0', 'w', 'x']):\n",
    "    print(name, v.shape, np.min(v), np.max(v))\n",
    "norm_x_t = np.sum(x*2, axis=1)\n",
    "plt.title('||x(t)||')\n",
    "plt.plot(np.arange(norm_x_t.shape[0]), norm_x_t)\n",
    "plt.show()"
   ]
  },
  {
   "cell_type": "markdown",
   "metadata": {
    "deletable": true,
    "editable": true
   },
   "source": [
    "We model the dynamical system with an RNN. We would like the state generated by the RNN to match the actual observed, and we use L2 loss for this purpose.\n",
    "This RNN is a *regression* model since it outputs real values.\n",
    "\n",
    "Below, `build_rnn_regression_model()` gives the model definition, and `train_rnn_with_noise()` generates a batch of data and then runs training on it. \n",
    "We corrupt the data generation process with noise, and let the dimensionality of the state $h$ be a free parameter. Therefore, the training function takes two input arguments: `noise_level` and `n_hidden_dim`.   You will later see how varying them affects reconstruction quality."
   ]
  },
  {
   "cell_type": "code",
   "execution_count": null,
   "metadata": {
    "collapsed": false,
    "deletable": true,
    "editable": true
   },
   "outputs": [],
   "source": []
  },
  {
   "cell_type": "code",
   "execution_count": null,
   "metadata": {
    "collapsed": false,
    "deletable": true,
    "editable": true
   },
   "outputs": [],
   "source": []
  },
  {
   "cell_type": "code",
   "execution_count": 10,
   "metadata": {
    "collapsed": false,
    "deletable": true,
    "editable": true,
    "scrolled": true
   },
   "outputs": [
    {
     "name": "stdout",
     "output_type": "stream",
     "text": [
      "385\n"
     ]
    }
   ],
   "source": [
    "import tensorflow as tf\n",
    "import numpy as np\n",
    "\n",
    "\n",
    "yo = np.array([1,2,3,4,5,6,7,8,9,10])\n",
    "u = yo\n",
    "k = np.matmul(yo,yo)\n",
    "print(k)\n",
    "\n",
    "#I = [[[[[1,2,3,3],[1,2,3,3],[2,3,5,6],[3,4,5,6],[1,2,3,4]]]]]\n",
    "#a = tf.concat([I,I],axis=4)\n",
    "\n",
    "#print(c)\n"
   ]
  },
  {
   "cell_type": "code",
   "execution_count": 2,
   "metadata": {
    "collapsed": false,
    "deletable": true,
    "editable": true,
    "scrolled": true
   },
   "outputs": [
    {
     "name": "stdout",
     "output_type": "stream",
     "text": [
      "1\n"
     ]
    }
   ],
   "source": [
    "import datetime\n",
    "import os\n",
    "import numpy as np\n",
    "import tensorflow as tf\n",
    "#from tensorflow.python.ops import rnn,rnn_cell\n",
    "from __future__ import print_function\n",
    "\n",
    "#############################################################################\n",
    "# RNN model graph\n",
    "def build_rnn_regression_model(shape):\n",
    "    # shape is dict with keys:\n",
    "    # n_steps_per_batch, n_hidden_dim, n_input_dim\n",
    "    with tf.Graph().as_default() as g:\n",
    "        # inputs to the dynamical system\n",
    "        X = tf.placeholder(tf.float32,\n",
    "                           [None, shape['n_steps_per_batch'], shape['n_input_dim']])\n",
    "        # observed state from the dynamical system\n",
    "        y = tf.placeholder(tf.float32, [None, shape['n_hidden_dim']])\n",
    "        \n",
    "        with tf.variable_scope('weights'):\n",
    "            # weight matrix\n",
    "            w = tf.get_variable('w', [shape['n_input_dim'], shape['n_hidden_dim']])\n",
    "            # initial state\n",
    "            h_0 = tf.get_variable('h_0', [shape['n_hidden_dim']])\n",
    "            \n",
    "        # for t = 1 to T, update state \n",
    "        h_t = h_0\n",
    "        for t in range(shape['n_steps_per_batch']):\n",
    "            x_t = X[:, t, :]\n",
    "            h_t = tf.maximum(0.0, 1 - (tf.matmul(x_t, w) + h_t))\n",
    "        \n",
    "        # loss: L2\n",
    "        loss = tf.nn.l2_loss(h_t - y, name='loss')\n",
    "        \n",
    "        train_op = tf.train.AdamOptimizer(0.1).minimize(loss)\n",
    "        summ = tf.summary.scalar('loss_sum_%dd' % shape['n_hidden_dim'], loss)\n",
    "        \n",
    "    return {'inputs': [X, y], 'loss': loss, 'train_op': train_op, 'summ': summ,\n",
    "            'weights': {'w': w, 'h_0': h_0}, 'graph': g}\n",
    "\n",
    "#############################################################################\n",
    "# Main train loop for an RNN regression model\n",
    "# \n",
    "# This takes synthetic data generated by data_generator.build_dataset()\n",
    "# the weight matrix W is then inferred with back-prop \n",
    "def train_rnn_with_noise(noise_level, n_hidden_dim):\n",
    "    # generate data\n",
    "    shapes = dict(n_hidden_dim=n_hidden_dim, n_input_dim=15, n_steps_per_batch=100)\n",
    "    rnn_dataset = data_generator.build_dataset('rnn', noise=noise_level, **shapes)\n",
    "    (h0_true, w_true), batched_data = rnn_dataset  # \"true\" weights\n",
    "    # build RNN model\n",
    "    model = build_rnn_regression_model(shapes)\n",
    "    \n",
    "    #logdir = './tensorboard/rnn_demo'  # if on Windows\n",
    "    logdir = '/usr4/dlearn/chhari/tensorboard/rnn_demo'  # if on Unix\n",
    "    try:\n",
    "        os.makedirs(logdir)\n",
    "    except os.error:\n",
    "        pass\n",
    "    # If you want to see the plots, run tensorboard:\n",
    "    # $ tensorboard --logdir=[your_logdir]\n",
    "    #\n",
    "    # If you use SCC, you can forward the 6006 port from the cluster \n",
    "    # to your local machine via:\n",
    "    # $ ssh [SCC_cluster_name] -L 6006:localhost:6006\n",
    "    time_now = datetime.datetime.now().strftime(\"%d-%b-%H-%M-%S\")\n",
    "    run_name = 'hidden=%d_noise=%.2f' % (n_hidden_dim, noise_level)\n",
    "    sum_path = os.path.join(logdir, run_name + '_' + time_now)\n",
    "    print(sum_path)\n",
    "    max_iter_i = 0\n",
    "    with model['graph'].as_default() as g, tf.Session() as sess:\n",
    "        sess.run(tf.global_variables_initializer())\n",
    "        sum_writer = tf.summary.FileWriter(sum_path, g)\n",
    "        for epoch_i in range(50):\n",
    "            loss_val, w_dist, h0_dist, iter_i = None, None, None, None\n",
    "            for iter_i, data_batch in enumerate(batched_data):\n",
    "                max_iter_i = max(iter_i, max_iter_i)\n",
    "                global_step = epoch_i*max_iter_i+iter_i\n",
    "                \n",
    "                # run training step\n",
    "                train_feed_dict = dict(zip(model['inputs'], data_batch))\n",
    "                to_compute = [model['train_op'], model['summ'], model['loss'],\n",
    "                              model['weights']['w'], model['weights']['h_0']]\n",
    "                _, summ, loss_val, w_val, h0_val = sess.run(to_compute, train_feed_dict)\n",
    "                \n",
    "                # compute reconstruction error\n",
    "                w_err = np.linalg.norm(w_true-w_val)\n",
    "                h0_err = np.linalg.norm(h0_true-h0_val)\n",
    "                \n",
    "                # for tensorboard\n",
    "                sum_writer.add_summary(summ, global_step)\n",
    "                sum_writer.add_summary(tf.Summary(value=[\n",
    "                    tf.Summary.Value(tag=\"w_true_dist_%dd\" % n_hidden_dim,\n",
    "                                     simple_value=w_dist),\n",
    "                ]), global_step)\n",
    "                sum_writer.add_summary(tf.Summary(value=[\n",
    "                    tf.Summary.Value(tag=\"h_true_dist_%dd\" % n_hidden_dim,\n",
    "                                     simple_value=h0_dist),\n",
    "                ]), global_step)\n",
    "                sum_writer.flush()\n",
    "                \n",
    "            print('epoch %d, loss=%g, w_err=%g'%(epoch_i, loss_val, w_err))\n",
    "            if global_step > 200: \n",
    "                break  # just train for 200 iterations\n",
    "print(1)"
   ]
  },
  {
   "cell_type": "markdown",
   "metadata": {
    "deletable": true,
    "editable": true
   },
   "source": [
    "### Q1.\n",
    "Now test the RNN wth varying noise levels and hidden dimensionalities.\n",
    "- For each combination of `n_hidden_dim` and `noise_level`, report the reconstruction error (`w_err`).\n",
    "- Describe how the hidden dimentionality and the noise level influence reconstruction quality. And briefly explain why."
   ]
  },
  {
   "cell_type": "code",
   "execution_count": 14,
   "metadata": {
    "collapsed": false,
    "deletable": true,
    "editable": true,
    "scrolled": true
   },
   "outputs": [
    {
     "name": "stdout",
     "output_type": "stream",
     "text": [
      "10 0\n",
      "/usr4/dlearn/chhari/tensorboard/rnn_demo/hidden=10_noise=0.00_25-Apr-19-43-48\n"
     ]
    },
    {
     "name": "stderr",
     "output_type": "stream",
     "text": [
      "/share/pkg/python/3.6.0/install/lib/python3.6/site-packages/ipykernel/__main__.py:94: DeprecationWarning: PyUnicode_AsEncodedObject() is deprecated; use PyUnicode_AsEncodedString() to encode from str to bytes or PyCodec_Encode() for generic encoding\n",
      "/share/pkg/python/3.6.0/install/lib/python3.6/site-packages/ipykernel/__main__.py:98: DeprecationWarning: PyUnicode_AsEncodedObject() is deprecated; use PyUnicode_AsEncodedString() to encode from str to bytes or PyCodec_Encode() for generic encoding\n"
     ]
    },
    {
     "name": "stdout",
     "output_type": "stream",
     "text": [
      "epoch 0, loss=33.9406, w_err=2.49605\n",
      "epoch 1, loss=4.50063, w_err=0.995887\n",
      "epoch 2, loss=0.590524, w_err=0.324397\n",
      "epoch 3, loss=0.0668536, w_err=0.111267\n",
      "epoch 4, loss=0.0139723, w_err=0.0421954\n",
      "epoch 5, loss=0.00300523, w_err=0.0189844\n",
      "epoch 6, loss=0.000670182, w_err=0.00984791\n",
      "epoch 7, loss=0.000665853, w_err=0.00882779\n",
      "10 0.1\n",
      "/usr4/dlearn/chhari/tensorboard/rnn_demo/hidden=10_noise=0.10_25-Apr-19-43-56\n",
      "epoch 0, loss=26.7652, w_err=2.1938\n",
      "epoch 1, loss=7.51299, w_err=0.995679\n",
      "epoch 2, loss=2.63321, w_err=0.50302\n",
      "epoch 3, loss=2.61026, w_err=0.426363\n",
      "epoch 4, loss=2.79804, w_err=0.450323\n",
      "epoch 5, loss=3.30477, w_err=0.49256\n",
      "epoch 6, loss=3.61181, w_err=0.545082\n",
      "epoch 7, loss=3.96932, w_err=0.591453\n",
      "10 0.5\n",
      "/usr4/dlearn/chhari/tensorboard/rnn_demo/hidden=10_noise=0.50_25-Apr-19-44-04\n",
      "epoch 0, loss=57.8604, w_err=2.7626\n",
      "epoch 1, loss=54.0156, w_err=2.1028\n",
      "epoch 2, loss=45.2666, w_err=2.19589\n",
      "epoch 3, loss=51.4508, w_err=2.14048\n",
      "epoch 4, loss=49.9158, w_err=2.18086\n",
      "epoch 5, loss=52.6252, w_err=2.25231\n",
      "epoch 6, loss=53.3973, w_err=2.23935\n",
      "epoch 7, loss=54.1578, w_err=2.28514\n",
      "100 0\n",
      "/usr4/dlearn/chhari/tensorboard/rnn_demo/hidden=100_noise=0.00_25-Apr-19-44-12\n",
      "epoch 0, loss=315.665, w_err=7.87248\n",
      "epoch 1, loss=39.4652, w_err=2.73147\n",
      "epoch 2, loss=5.04056, w_err=0.965009\n",
      "epoch 3, loss=0.818158, w_err=0.351328\n",
      "epoch 4, loss=0.165293, w_err=0.158154\n",
      "epoch 5, loss=0.062598, w_err=0.0969754\n",
      "epoch 6, loss=0.034763, w_err=0.0706694\n",
      "epoch 7, loss=0.0230762, w_err=0.0558139\n",
      "100 0.1\n",
      "/usr4/dlearn/chhari/tensorboard/rnn_demo/hidden=100_noise=0.10_25-Apr-19-44-20\n",
      "epoch 0, loss=443.455, w_err=8.6633\n",
      "epoch 1, loss=74.8418, w_err=2.9794\n",
      "epoch 2, loss=27.4625, w_err=1.58935\n",
      "epoch 3, loss=25.9914, w_err=1.39929\n",
      "epoch 4, loss=27.4911, w_err=1.45339\n",
      "epoch 5, loss=31.4533, w_err=1.58348\n",
      "epoch 6, loss=34.9746, w_err=1.71203\n",
      "epoch 7, loss=38.4674, w_err=1.82872\n",
      "100 0.5\n",
      "/usr4/dlearn/chhari/tensorboard/rnn_demo/hidden=100_noise=0.50_25-Apr-19-44-28\n",
      "epoch 0, loss=677.215, w_err=9.2041\n",
      "epoch 1, loss=382.98, w_err=6.00579\n",
      "epoch 2, loss=353.2, w_err=6.02298\n",
      "epoch 3, loss=373.621, w_err=6.02948\n",
      "epoch 4, loss=376.524, w_err=6.08134\n",
      "epoch 5, loss=389.315, w_err=6.12967\n",
      "epoch 6, loss=396.559, w_err=6.18086\n",
      "epoch 7, loss=399.914, w_err=6.22998\n",
      "1000 0\n",
      "/usr4/dlearn/chhari/tensorboard/rnn_demo/hidden=1000_noise=0.00_25-Apr-19-44-37\n",
      "epoch 0, loss=5939.02, w_err=33.1625\n",
      "epoch 1, loss=481.013, w_err=9.03999\n",
      "epoch 2, loss=55.8076, w_err=3.1247\n",
      "epoch 3, loss=8.16119, w_err=1.17012\n",
      "epoch 4, loss=1.9092, w_err=0.542019\n",
      "epoch 5, loss=0.93749, w_err=0.355524\n",
      "epoch 6, loss=0.766721, w_err=0.307442\n",
      "epoch 7, loss=0.590187, w_err=0.279564\n",
      "1000 0.1\n",
      "/usr4/dlearn/chhari/tensorboard/rnn_demo/hidden=1000_noise=0.10_25-Apr-19-44-49\n",
      "epoch 0, loss=5186.02, w_err=32.0769\n",
      "epoch 1, loss=641.356, w_err=9.7199\n",
      "epoch 2, loss=252.348, w_err=5.39478\n",
      "epoch 3, loss=230.578, w_err=4.56075\n",
      "epoch 4, loss=247.527, w_err=4.70099\n",
      "epoch 5, loss=269.779, w_err=4.96752\n",
      "epoch 6, loss=295.353, w_err=5.27046\n",
      "epoch 7, loss=319.691, w_err=5.56648\n",
      "1000 0.5\n",
      "/usr4/dlearn/chhari/tensorboard/rnn_demo/hidden=1000_noise=0.50_25-Apr-19-45-01\n",
      "epoch 0, loss=10022.2, w_err=36.5744\n",
      "epoch 1, loss=4072.62, w_err=18.3911\n",
      "epoch 2, loss=3711.5, w_err=18.2067\n",
      "epoch 3, loss=3786.54, w_err=18.0851\n",
      "epoch 4, loss=3881.31, w_err=18.3583\n",
      "epoch 5, loss=3975.81, w_err=18.5474\n",
      "epoch 6, loss=4068.84, w_err=18.7695\n",
      "epoch 7, loss=4106.53, w_err=18.9196\n"
     ]
    }
   ],
   "source": [
    "# Experimenting with different data noise levels and hidden dimentionalities\n",
    "# We are lucky to know the true hidden dimentionality in our simultaion\n",
    "for n_hidden_dim in [10, 100, 1000]:\n",
    "    for noise_level in [0, 0.1, 0.5]:\n",
    "        print(n_hidden_dim, noise_level)\n",
    "        train_rnn_with_noise(noise_level, n_hidden_dim)"
   ]
  },
  {
   "cell_type": "markdown",
   "metadata": {
    "deletable": true,
    "editable": true
   },
   "source": [
    "## Part 2: LSTM implementation\n",
    "\n",
    "(40 points)\n",
    "\n",
    "Now let's attempt to recover the weights in dynamical system simulated with an LSTM.  Although LSTMs are already implemented in TensorFlow ([tutorial here](https://www.tensorflow.org/tutorials/recurrent)) ([source here](https://github.com/tensorflow/tensorflow/blob/efe5376f3dec8fcc2bf3299a4ff4df6ad3591c88/tensorflow/contrib/rnn/python/ops/core_rnn_cell_impl.py#L264)), you will be implementing a simple LSTM from scratch using Tensorflow in this part. \n",
    "\n",
    "\n",
    "### Q2. Implement an LSTM \n",
    "Implement an LSTM model in an analogous way,  in functions `build_lstm_regression_model()` and `train_lstm_with_noise()` below.\n",
    "The RNN regression implementation above should give you some ideas.\n",
    "We already provided an LSTM version of the dynamical system generator in the dataset generator code.\n",
    "\n",
    "- Specifically, you can follow and implement Eq. 1-6 from [this link](http://deeplearning.net/tutorial/lstm.html) in `build_lstm_regression_model()`. \n",
    "You may simplify your code by concatenating $x$ and $h$.\n",
    "- Afterwards, implement `train_lstm_with_noise()` to train the LSTM and recover the parameters. Compute the reconstruction errors for $W_c$ and $U_c$, which are the parameters used in Eq. 2 in the link.\n",
    "- For each combination of hidden dimension and noise level, report the reconstruction error (`w_err`, `u_err`) you get from the LSTM.\n",
    "\n",
    "Note:\n",
    "- The weights might not get reconstructed correctly in the LSTM case even without noise. (Why?)\n",
    "Nevertheless, the loss should decrease."
   ]
  },
  {
   "cell_type": "code",
   "execution_count": null,
   "metadata": {
    "collapsed": true,
    "deletable": true,
    "editable": true
   },
   "outputs": [],
   "source": [
    "print(1)"
   ]
  },
  {
   "cell_type": "code",
   "execution_count": 65,
   "metadata": {
    "collapsed": false,
    "deletable": true,
    "editable": true
   },
   "outputs": [],
   "source": []
  },
  {
   "cell_type": "code",
   "execution_count": null,
   "metadata": {
    "collapsed": false,
    "deletable": true,
    "editable": true
   },
   "outputs": [],
   "source": []
  },
  {
   "cell_type": "code",
   "execution_count": 26,
   "metadata": {
    "collapsed": false,
    "deletable": true,
    "editable": true
   },
   "outputs": [],
   "source": [
    "import datetime\n",
    "import os\n",
    "import numpy as np\n",
    "import tensorflow as tf\n",
    "#from tensorflow.python.ops import rnn,rnn_cell\n",
    "from __future__ import print_function\n",
    "def build_lstm_regression_model(shape):\n",
    "    # shape is dict with keys:\n",
    "    # n_steps_per_batch, n_hidden_dim, n_input_dim\n",
    "    with tf.Graph().as_default() as g:\n",
    "        # inputs\n",
    "        X = tf.placeholder(tf.float32,\n",
    "                           [None, shape['n_steps_per_batch'], shape['n_input_dim']])\n",
    "        \n",
    "        # observed outputs\n",
    "        y = tf.placeholder(tf.float32, [None, shape['n_hidden_dim']])\n",
    "        \n",
    "        #################################################################\n",
    "        ####################  PUT YOUR CODE HERE   ######################\n",
    "        # define the parameters in the LSTM (scope: weights)\n",
    "        # and carry out the computation according to Eq. 1-6 in the link\n",
    "        with tf.variable_scope('weights'):\n",
    "            ix = tf.get_variable('ix',[shape['n_input_dim'], shape['n_hidden_dim']])\n",
    "            im = tf.get_variable('im',[shape['n_hidden_dim'], shape['n_hidden_dim']])\n",
    "           # ib = tf.ariable(tf.zeros([1, shape['n_hidden_dim']]))\n",
    "              # Forget gate: input, previous output, and bias.\n",
    "            fx = tf.get_variable('fx',[shape['n_input_dim'], shape['n_hidden_dim']])\n",
    "            fm = tf.get_variable('fm',[shape['n_hidden_dim'], shape['n_hidden_dim']])\n",
    "           # fb = tf.get_variable(tf.zeros([1, shape['n_hidden_dim']]))\n",
    "              # Memory cell: input, state and bias.\n",
    "            w_c = tf.get_variable('w_c',[shape['n_input_dim'], shape['n_hidden_dim']])\n",
    "            u_c = tf.get_variable('u_c',[shape['n_hidden_dim'], shape['n_hidden_dim']])\n",
    "            #cb = tf.Variable(tf.zeros([1, shape['n_hidden_dim']]))\n",
    "              # Output gate: input, previous output, and bias.\n",
    "            ox = tf.get_variable('ox',[shape['n_input_dim'], shape['n_hidden_dim']])\n",
    "            om = tf.get_variable('om',[shape['n_hidden_dim'], shape['n_hidden_dim']])\n",
    "            #ob = tf.Variable(tf.zeros([1, shape['n_hidden_dim']]))\n",
    "              # Variables saving state across unrollings.\n",
    "            saved_output = tf.get_variable('so',[20, shape['n_hidden_dim']], trainable=False)\n",
    "            saved_state = tf.get_variable('ss',[20, shape['n_hidden_dim']], trainable=False)\n",
    "              # Classifier weights and biases.\n",
    "            w = tf.get_variable('w',[shape['n_hidden_dim'],shape['n_input_dim']])\n",
    "            b = tf.get_variable('b',[shape['n_hidden_dim']])\n",
    "        \n",
    "        outputk = list()\n",
    "        states = list()\n",
    "        o = saved_output\n",
    "        state = saved_state\n",
    "        for t in range(shape['n_steps_per_batch']):\n",
    "            i = X[:, t, :]\n",
    "           # print('yo')\n",
    "           # print(i.get_shape())\n",
    "            l = tf.matmul(i, ix) + tf.matmul(o, im)\n",
    "            input_gate = tf.sigmoid(l)\n",
    "            forget_gate = tf.sigmoid(tf.matmul(i, fx) + tf.matmul(o, fm))\n",
    "            update = tf.matmul(i, w_c) + tf.matmul(o, u_c) \n",
    "            state = forget_gate * state + input_gate * tf.tanh(update)\n",
    "            output_gate = tf.sigmoid(tf.matmul(i, ox) + tf.matmul(o, om))\n",
    "            o = output_gate * tf.tanh(state)\n",
    "            outputk.append(o) \n",
    "            #print(outputk.shape)\n",
    "            states.append(state)\n",
    "           # acto = tf.nn.xw_plus_b(tf.concat(o,w,b)\n",
    "            \n",
    "       \n",
    "       # print('out')\n",
    "       # print(output_gate.get_shape())\n",
    "        \n",
    "\n",
    "        #output = tf.concat(outputk,0)\n",
    "        output = outputk[-1]\n",
    "        #output.reshape(None,shape[''])\n",
    "        output = tf.reduce_mean(output,axis=0)\n",
    "        output = tf.transpose(output)\n",
    "        print('output')\n",
    "        print(output.get_shape())\n",
    "        \n",
    "        # put your result in variable 'output'\n",
    "        #################################################################\n",
    "        \n",
    "        \n",
    "\n",
    "\n",
    "        # loss and train_op\n",
    "        #output = tf.nn.xw_plus_b(outputk,w,b)\n",
    "        loss = tf.nn.l2_loss(output - y, name='loss')\n",
    "        train_op = tf.train.AdamOptimizer(0.1).minimize(loss)\n",
    "        summ = tf.summary.scalar('loss_sum_%dd' % shape['n_hidden_dim'], loss)\n",
    "\n",
    "    return {'inputs': [X, y], 'loss': loss, 'train_op': train_op, 'summ': summ,\n",
    "            'weights': {'w_c': w_c, 'u_c': u_c}, \n",
    "            'graph': g}\n",
    "    \n",
    "    \n",
    "def train_lstm_with_noise(noise_level, n_hidden_dim):\n",
    "    # generate data and random weights\n",
    "    shapes = dict(n_hidden_dim=n_hidden_dim, n_input_dim=15, n_steps_per_batch=100)\n",
    "    weights, batched_data = data_generator.build_dataset('lstm', noise=noise_level, **shapes)\n",
    "    w_c, u_c = weights[3], weights[7]  # the \"true\" weights to recover: Wc & Uc (in Eq.2)\n",
    "    \n",
    "    # this is the function you implemented\n",
    "    model = build_lstm_regression_model(shapes)\n",
    "    \n",
    "    #logdir = './tensorboard/lstm_demo'  # if on Windows\n",
    "    logdir = '/usr4/dlearn/chhari/tensorboard/lstm_demo'  # if on Unix\n",
    "    try:\n",
    "        os.makedirs(logdir)\n",
    "    except os.error:\n",
    "        pass\n",
    "    time_now = datetime.datetime.now().strftime(\"%d-%b-%H-%M-%S\")\n",
    "    run_name = 'hidden=%d_noise=%.2f' % (n_hidden_dim, noise_level)\n",
    "    sum_path = os.path.join(logdir, run_name + '_' + time_now)\n",
    "    print(sum_path)\n",
    "    \n",
    "    max_iter_i = 0\n",
    "    with model['graph'].as_default() as g, tf.Session() as sess:\n",
    "        sess.run(tf.global_variables_initializer())\n",
    "        sum_writer = tf.summary.FileWriter(sum_path, g)\n",
    "        for epoch_i in range(10):  # 10 epochs by default, feel free to change\n",
    "            loss_val, w_err, u_err, iter_i = None, None, None, None\n",
    "            for iter_i, data_batch in enumerate(batched_data):\n",
    "                max_iter_i = max(iter_i, max_iter_i)\n",
    "                global_step = epoch_i*max_iter_i+iter_i\n",
    "                \n",
    "                \n",
    "                ###############################################################\n",
    "                ###################   PUT YOUR CODE HERE   ####################\n",
    "                \n",
    "              #  to_compute = []  # the things to compute, including at least:\n",
    "                                 # loss_val, w_err, u_err\n",
    "                train_feed_dict = dict(zip(model['inputs'], data_batch))  # define your train_feed_dict\n",
    "                to_compute = [model['train_op'],model['loss'],model['summ'],\n",
    "                              model['weights']['w_c'],model['weights']['u_c']]\n",
    "                \n",
    "                _,loss_val,summ1,w_c2,u_c2 = sess.run(to_compute, train_feed_dict)\n",
    "                \n",
    "                w_err = np.linalg.norm(w_c - w_c2)  # compute them and report\n",
    "                u_err = np.linalg.norm(u_c - u_c2)\n",
    "                \n",
    "               \n",
    "                \n",
    "                sum_writer.add_summary(summ1, global_step)\n",
    "                sum_writer.add_summary(tf.Summary(value=[tf.Summary.Value(tag=\"w_true_dist_%ff\" % n_hidden_dim,\n",
    "                                     simple_value=w_err),]), global_step)\n",
    "                sum_writer.add_summary(tf.Summary(value=[tf.Summary.Value(tag=\"h_true_dist_%ff\" % n_hidden_dim,\n",
    "                                     simple_value=u_err),]), global_step)\n",
    "                sum_writer.flush()\n",
    "                #print(w_err)\n",
    "                #print(loss_val)\n",
    "                #print(epoch_i)\n",
    "            \n",
    "                if(global_step > 200): \n",
    "                    break  # just train for 200 iterations\n",
    "            print('epoch %d, loss=%.3f, w_err=%.3f'%(epoch_i, loss_val, w_err))\n",
    "                ###############################################################"
   ]
  },
  {
   "cell_type": "code",
   "execution_count": 27,
   "metadata": {
    "collapsed": false,
    "deletable": true,
    "editable": true
   },
   "outputs": [
    {
     "name": "stdout",
     "output_type": "stream",
     "text": [
      "10 0\n",
      "output\n",
      "(10,)\n",
      "/usr4/dlearn/chhari/tensorboard/lstm_demo/hidden=10_noise=0.00_25-Apr-22-39-52\n"
     ]
    },
    {
     "name": "stderr",
     "output_type": "stream",
     "text": [
      "/share/pkg/python/3.6.0/install/lib/python3.6/site-packages/ipykernel/__main__.py:144: DeprecationWarning: PyUnicode_AsEncodedObject() is deprecated; use PyUnicode_AsEncodedString() to encode from str to bytes or PyCodec_Encode() for generic encoding\n",
      "/share/pkg/python/3.6.0/install/lib/python3.6/site-packages/ipykernel/__main__.py:146: DeprecationWarning: PyUnicode_AsEncodedObject() is deprecated; use PyUnicode_AsEncodedString() to encode from str to bytes or PyCodec_Encode() for generic encoding\n"
     ]
    },
    {
     "name": "stdout",
     "output_type": "stream",
     "text": [
      "epoch 0, loss=15.814, w_err=13.314\n",
      "epoch 1, loss=14.789, w_err=14.207\n",
      "epoch 2, loss=14.291, w_err=14.313\n",
      "epoch 3, loss=14.532, w_err=14.818\n",
      "epoch 4, loss=14.279, w_err=14.971\n",
      "epoch 5, loss=14.296, w_err=15.367\n",
      "epoch 6, loss=14.225, w_err=15.877\n",
      "epoch 7, loss=12.718, w_err=15.943\n",
      "epoch 8, loss=11.899, w_err=15.945\n",
      "epoch 9, loss=11.891, w_err=15.952\n",
      "10 0.1\n",
      "output\n",
      "(10,)\n",
      "/usr4/dlearn/chhari/tensorboard/lstm_demo/hidden=10_noise=0.10_25-Apr-22-40-19\n",
      "epoch 0, loss=11.732, w_err=11.956\n",
      "epoch 1, loss=11.262, w_err=12.605\n",
      "epoch 2, loss=10.839, w_err=12.919\n",
      "epoch 3, loss=10.928, w_err=13.210\n",
      "epoch 4, loss=10.825, w_err=13.444\n",
      "epoch 5, loss=10.807, w_err=13.496\n",
      "epoch 6, loss=10.806, w_err=14.109\n",
      "epoch 7, loss=11.309, w_err=14.172\n",
      "epoch 8, loss=11.827, w_err=14.181\n",
      "epoch 9, loss=11.821, w_err=14.189\n",
      "10 0.5\n",
      "output\n",
      "(10,)\n",
      "/usr4/dlearn/chhari/tensorboard/lstm_demo/hidden=10_noise=0.50_25-Apr-22-40-45\n",
      "epoch 0, loss=14.587, w_err=13.185\n",
      "epoch 1, loss=13.449, w_err=13.422\n",
      "epoch 2, loss=13.249, w_err=13.776\n",
      "epoch 3, loss=13.080, w_err=13.708\n",
      "epoch 4, loss=12.973, w_err=14.006\n",
      "epoch 5, loss=12.891, w_err=14.205\n",
      "epoch 6, loss=12.962, w_err=14.412\n",
      "epoch 7, loss=11.343, w_err=14.465\n",
      "epoch 8, loss=9.694, w_err=14.483\n",
      "epoch 9, loss=9.687, w_err=14.505\n",
      "100 0\n",
      "output\n",
      "(100,)\n",
      "/usr4/dlearn/chhari/tensorboard/lstm_demo/hidden=100_noise=0.00_25-Apr-22-41-13\n",
      "epoch 0, loss=157.298, w_err=44.164\n",
      "epoch 1, loss=182.370, w_err=51.594\n",
      "epoch 2, loss=nan, w_err=nan\n",
      "epoch 3, loss=nan, w_err=nan\n",
      "epoch 4, loss=nan, w_err=nan\n",
      "epoch 5, loss=nan, w_err=nan\n",
      "epoch 6, loss=nan, w_err=nan\n",
      "epoch 7, loss=nan, w_err=nan\n",
      "epoch 8, loss=nan, w_err=nan\n",
      "epoch 9, loss=nan, w_err=nan\n",
      "100 0.1\n",
      "output\n",
      "(100,)\n",
      "/usr4/dlearn/chhari/tensorboard/lstm_demo/hidden=100_noise=0.10_25-Apr-22-41-45\n",
      "epoch 0, loss=201.166, w_err=44.258\n",
      "epoch 1, loss=309.036, w_err=48.489\n",
      "epoch 2, loss=333.027, w_err=57.005\n",
      "epoch 3, loss=289.987, w_err=67.166\n",
      "epoch 4, loss=358.655, w_err=82.397\n",
      "epoch 5, loss=nan, w_err=nan\n",
      "epoch 6, loss=nan, w_err=nan\n",
      "epoch 7, loss=nan, w_err=nan\n",
      "epoch 8, loss=nan, w_err=nan\n",
      "epoch 9, loss=nan, w_err=nan\n",
      "100 0.5\n",
      "output\n",
      "(100,)\n",
      "/usr4/dlearn/chhari/tensorboard/lstm_demo/hidden=100_noise=0.50_25-Apr-22-42-16\n",
      "epoch 0, loss=246.023, w_err=42.477\n",
      "epoch 1, loss=219.094, w_err=43.436\n",
      "epoch 2, loss=233.979, w_err=48.568\n",
      "epoch 3, loss=224.771, w_err=61.013\n",
      "epoch 4, loss=nan, w_err=nan\n",
      "epoch 5, loss=nan, w_err=nan\n",
      "epoch 6, loss=nan, w_err=nan\n",
      "epoch 7, loss=nan, w_err=nan\n",
      "epoch 8, loss=nan, w_err=nan\n",
      "epoch 9, loss=nan, w_err=nan\n",
      "1000 0\n",
      "output\n",
      "(1000,)\n",
      "/usr4/dlearn/chhari/tensorboard/lstm_demo/hidden=1000_noise=0.00_25-Apr-22-46-13\n",
      "epoch 0, loss=4359.896, w_err=138.617\n",
      "epoch 1, loss=4343.770, w_err=141.336\n",
      "epoch 2, loss=4305.654, w_err=146.039\n",
      "epoch 3, loss=nan, w_err=nan\n",
      "epoch 4, loss=nan, w_err=nan\n",
      "epoch 5, loss=nan, w_err=nan\n",
      "epoch 6, loss=nan, w_err=nan\n",
      "epoch 7, loss=nan, w_err=nan\n",
      "epoch 8, loss=nan, w_err=nan\n",
      "epoch 9, loss=nan, w_err=nan\n",
      "1000 0.1\n",
      "output\n",
      "(1000,)\n",
      "/usr4/dlearn/chhari/tensorboard/lstm_demo/hidden=1000_noise=0.10_25-Apr-22-50-16\n",
      "epoch 0, loss=5495.009, w_err=139.471\n",
      "epoch 1, loss=5487.056, w_err=141.497\n",
      "epoch 2, loss=5453.538, w_err=141.624\n",
      "epoch 3, loss=5516.936, w_err=141.638\n",
      "epoch 4, loss=5455.528, w_err=141.640\n",
      "epoch 5, loss=5253.233, w_err=141.661\n",
      "epoch 6, loss=5185.499, w_err=141.697\n",
      "epoch 7, loss=5305.280, w_err=141.698\n",
      "epoch 8, loss=5334.578, w_err=141.698\n",
      "epoch 9, loss=5331.498, w_err=141.698\n",
      "1000 0.5\n",
      "output\n",
      "(1000,)\n",
      "/usr4/dlearn/chhari/tensorboard/lstm_demo/hidden=1000_noise=0.50_25-Apr-22-54-41\n",
      "epoch 0, loss=5008.665, w_err=138.673\n",
      "epoch 1, loss=4646.445, w_err=143.725\n",
      "epoch 2, loss=4629.787, w_err=144.085\n",
      "epoch 3, loss=4628.731, w_err=144.106\n",
      "epoch 4, loss=4627.907, w_err=144.107\n",
      "epoch 5, loss=4627.493, w_err=144.107\n",
      "epoch 6, loss=4627.354, w_err=144.107\n",
      "epoch 7, loss=4677.520, w_err=144.107\n",
      "epoch 8, loss=4546.922, w_err=144.107\n",
      "epoch 9, loss=4546.920, w_err=144.107\n",
      "1\n"
     ]
    }
   ],
   "source": [
    "for n_hidden_dim in [10, 100, 1000]:\n",
    "    for noise_level in [0, 0.1, 0.5]:\n",
    "        print(n_hidden_dim, noise_level)\n",
    "        train_lstm_with_noise(noise_level, n_hidden_dim)\n",
    "print(1)"
   ]
  },
  {
   "cell_type": "code",
   "execution_count": 51,
   "metadata": {
    "collapsed": false,
    "deletable": true,
    "editable": true
   },
   "outputs": [],
   "source": []
  },
  {
   "cell_type": "code",
   "execution_count": null,
   "metadata": {
    "collapsed": false,
    "deletable": true,
    "editable": true
   },
   "outputs": [],
   "source": []
  },
  {
   "cell_type": "code",
   "execution_count": 69,
   "metadata": {
    "collapsed": false,
    "deletable": true,
    "editable": true,
    "scrolled": true
   },
   "outputs": [],
   "source": [
    "import datetime\n",
    "import os\n",
    "import numpy as np\n",
    "import tensorflow as tf\n",
    "#from tensorflow.python.ops import rnn,rnn_cell\n",
    "from __future__ import print_function\n",
    "\n",
    "def build_lstm_regression_model(shape):\n",
    "    # shape is dict with keys:\n",
    "    # n_steps_per_batch, n_hidden_dim, n_input_dim\n",
    "    with tf.Graph().as_default() as g:\n",
    "        # inputs\n",
    "        X = tf.placeholder(tf.float32,\n",
    "                           [None, shape['n_steps_per_batch'], shape['n_input_dim']])\n",
    "        # observed outputs\n",
    "        y = tf.placeholder(tf.float32, [None, shape['n_hidden_dim']])\n",
    "        \n",
    "        #################################################################\n",
    "        ####################  PUT YOUR CODE HERE   ######################\n",
    "        # define the parameters in the LSTM (scope: weights)\n",
    "        # and carry out the computation according to Eq. 1-6 in the link\n",
    "        with tf.variable_scope('weights'):\n",
    "            # weight matrix\n",
    "            wi = tf.get_variable('wi', [shape['n_input_dim'], shape['n_hidden_dim']])\n",
    "            w_c1 = tf.get_variable('w_c1', [shape['n_input_dim'], shape['n_hidden_dim']])\n",
    "            w_f = tf.get_variable('w_f', [shape['n_input_dim'], shape['n_hidden_dim']])\n",
    "            w_o = tf.get_variable('w_o', [shape['n_input_dim'], shape['n_hidden_dim']])    \n",
    "            # initial state\n",
    "            h_0 = tf.get_variable('h_0', [20,shape['n_hidden_dim']])\n",
    "            ui = tf.get_variable('ui',[shape['n_hidden_dim'], shape['n_hidden_dim']])\n",
    "            u_c1 = tf.get_variable('u_c1',[shape['n_hidden_dim'], shape['n_hidden_dim']])\n",
    "            u_f = tf.get_variable('u_f',[shape['n_hidden_dim'], shape['n_hidden_dim']])\n",
    "            u_o = tf.get_variable('u_o',[shape['n_hidden_dim'], shape['n_hidden_dim']])    \n",
    "            \n",
    "            C_0 = tf.get_variable('C_0',[20,shape['n_hidden_dim']])\n",
    "   #         i_0 = tf.get_variable('',[shape[]])\n",
    "       \n",
    "        h_t_1 = h_0\n",
    "        C_t_1 = C_0\n",
    "        outputyo = []\n",
    "        \n",
    "        for t in range(shape['n_steps_per_batch']):\n",
    "            x_t = X[:, t, :]\n",
    "            #h_t = tf.maximum(0.0, 1 - (tf.matmul(x_t, w) + tf.matmul(u_t,h_t))\n",
    "            i_t = tf.sigmoid(tf.matmul(x_t,wi)+tf.matmul(h_t_1,ui))\n",
    "            C_til_t = tf.tanh(tf.matmul(x_t,w_c1)+tf.matmul(h_t_1,u_c1))\n",
    "            f_t = tf.sigmoid(tf.matmul(x_t,w_f)+tf.matmul(h_t_1,u_f))\n",
    "            C_t_1 = i_t*C_til_t + f_t*C_t_1\n",
    "            o = tf.sigmoid(tf.matmul(x_t,w_o)+tf.matmul(h_t_1,u_o))\n",
    "            h_t_1 = o*(tf.tanh(C_t_1))\n",
    "            outputyo.append(h_t_1)\n",
    "            \n",
    "        output = outputyo[-1]   # put your result in variable 'output'\n",
    "        #################################################################\n",
    "        \n",
    "        # loss and train_op\n",
    "        loss = tf.nn.l2_loss(output - y, name='loss')\n",
    "        #print(loss)\n",
    "        #\n",
    "        print(output.get_shape())\n",
    "        print(loss.get_shape())\n",
    "        print(y.get_shape())\n",
    "        #loss = 0\n",
    "        train_op = tf.train.AdamOptimizer(0.1).minimize(loss)\n",
    "        summ = tf.summary.scalar('loss_sum_%dd' % shape['n_hidden_dim'], loss)\n",
    "        print(summ.get_shape())\n",
    "\n",
    "    return {'inputs': [X, y], 'loss': loss, 'train_op': train_op, 'summ': summ,\n",
    "            'weights': {'w_c1': w_c1, 'u_c1': u_c1}, \n",
    "            'graph': g}\n",
    "    \n",
    "    \n",
    "def train_lstm_with_noise(noise_level, n_hidden_dim):\n",
    "    # generate data and random weights\n",
    "    shapes = dict(n_hidden_dim=n_hidden_dim, n_input_dim=15, n_steps_per_batch=100)\n",
    "    weights, batched_data = data_generator.build_dataset('lstm', noise=noise_level, **shapes)\n",
    "    w_c, u_c = weights[3], weights[7]  # the \"true\" weights to recover: Wc & Uc (in Eq.2)\n",
    "    \n",
    "    # this is the function you implemented\n",
    "    model = build_lstm_regression_model(shapes)\n",
    "    \n",
    "    #logdir = './tensorboard/lstm_demo'  # if on Windows\n",
    "    logdir = '/tmp/tensorboard/lstm_demo'  # if on Unix\n",
    "    try:\n",
    "        os.makedirs(logdir)\n",
    "    except os.error:\n",
    "        pass\n",
    "    time_now = datetime.datetime.now().strftime(\"%d-%b-%H-%M-%S\")\n",
    "    run_name = 'hidden=%d_noise=%.2f' % (n_hidden_dim, noise_level)\n",
    "    sum_path = os.path.join(logdir, run_name + '_' + time_now)\n",
    "    print(sum_path)\n",
    "    \n",
    "    max_iter_i = 0\n",
    "    with model['graph'].as_default() as g, tf.Session() as sess:\n",
    "        sess.run(tf.global_variables_initializer())\n",
    " #       sum_writer = tf.summary.FileWriter(sum_path, g)\n",
    "        for epoch_i in range(10):  # 10 epochs by default, feel free to change\n",
    "            loss_val, w_err, u_err, iter_i = None, None, None, None\n",
    "            for iter_i, data_batch in enumerate(batched_data):\n",
    "                max_iter_i = max(iter_i, max_iter_i)\n",
    "                global_step = epoch_i*max_iter_i+iter_i\n",
    "                \n",
    "                ###############################################################\n",
    "                ###################   PUT YOUR CODE HERE   ####################\n",
    "                train_feed_dict = dict(zip(model['inputs'], data_batch))  # define your train_feed_dict\n",
    "                to_compute = [model['train_op'],model['summ'],model['loss'],\n",
    "                              model['weights']['w_c1'],model['weights']['u_c1']]  # the things to compute, including at least:\n",
    "                                 # loss_val, w_err, u_err\n",
    "                    \n",
    "                _,summ,loss_val,w_c2,u_c2 = sess.run(to_compute, train_feed_dict)\n",
    "                sess.run(loss_val)\n",
    "                sess.run(w_c2)\n",
    "               # w_err = np.linalg.norm(w_c-w_c1)  # compute them and report\n",
    "               # u_err = np.linalg.norm(u_c-u_c1)\n",
    "                # [optional] you can also do early stopping, e.g. 300 iterations\n",
    "                # if global_step > 300:\n",
    "                #    break\n",
    "                # use sum_writer for tensorboard, see train_rnn_with_noise()\n",
    "                sum_writer.add_summary(summ,global_step)\n",
    "               # sum_writer.add_summary(tf.Summary(value=[tf.Summary.Value(tag=\"w_true_dist_%dd\" %n_hidden_dim,simple_value=w_err)]),global_step)\n",
    "               # sum_writer.add_summary(tf.Summary(value=[tf.Summary.Value(tag=\"u_true_dist_%dd\" %n_hidden_dim,simple_value=u_err)]),global_step)\n",
    "                sum_writer.flush()\n",
    "                ###############################################################"
   ]
  },
  {
   "cell_type": "code",
   "execution_count": 70,
   "metadata": {
    "collapsed": false,
    "deletable": true,
    "editable": true,
    "scrolled": true
   },
   "outputs": [
    {
     "name": "stdout",
     "output_type": "stream",
     "text": [
      "10 0\n",
      "(20, 10)\n",
      "()\n",
      "(?, 10)\n",
      "()\n",
      "/tmp/tensorboard/lstm_demo/hidden=10_noise=0.00_25-Apr-21-08-52\n"
     ]
    },
    {
     "ename": "TypeError",
     "evalue": "Fetch argument 16.086859 has invalid type <class 'numpy.float32'>, must be a string or Tensor. (Can not convert a float32 into a Tensor or Operation.)",
     "output_type": "error",
     "traceback": [
      "\u001b[0;31m---------------------------------------------------------------------------\u001b[0m",
      "\u001b[0;31mTypeError\u001b[0m                                 Traceback (most recent call last)",
      "\u001b[0;32m/share/pkg/tensorflow/r1.0_python-3.6.0/install/site-packages/tensorflow/python/client/session.py\u001b[0m in \u001b[0;36m__init__\u001b[0;34m(self, fetches, contraction_fn)\u001b[0m\n\u001b[1;32m    266\u001b[0m         self._unique_fetches.append(ops.get_default_graph().as_graph_element(\n\u001b[0;32m--> 267\u001b[0;31m             fetch, allow_tensor=True, allow_operation=True))\n\u001b[0m\u001b[1;32m    268\u001b[0m       \u001b[0;32mexcept\u001b[0m \u001b[0mTypeError\u001b[0m \u001b[0;32mas\u001b[0m \u001b[0me\u001b[0m\u001b[0;34m:\u001b[0m\u001b[0;34m\u001b[0m\u001b[0m\n",
      "\u001b[0;32m/share/pkg/tensorflow/r1.0_python-3.6.0/install/site-packages/tensorflow/python/framework/ops.py\u001b[0m in \u001b[0;36mas_graph_element\u001b[0;34m(self, obj, allow_tensor, allow_operation)\u001b[0m\n\u001b[1;32m   2404\u001b[0m     \u001b[0;32mwith\u001b[0m \u001b[0mself\u001b[0m\u001b[0;34m.\u001b[0m\u001b[0m_lock\u001b[0m\u001b[0;34m:\u001b[0m\u001b[0;34m\u001b[0m\u001b[0m\n\u001b[0;32m-> 2405\u001b[0;31m       \u001b[0;32mreturn\u001b[0m \u001b[0mself\u001b[0m\u001b[0;34m.\u001b[0m\u001b[0m_as_graph_element_locked\u001b[0m\u001b[0;34m(\u001b[0m\u001b[0mobj\u001b[0m\u001b[0;34m,\u001b[0m \u001b[0mallow_tensor\u001b[0m\u001b[0;34m,\u001b[0m \u001b[0mallow_operation\u001b[0m\u001b[0;34m)\u001b[0m\u001b[0;34m\u001b[0m\u001b[0m\n\u001b[0m\u001b[1;32m   2406\u001b[0m \u001b[0;34m\u001b[0m\u001b[0m\n",
      "\u001b[0;32m/share/pkg/tensorflow/r1.0_python-3.6.0/install/site-packages/tensorflow/python/framework/ops.py\u001b[0m in \u001b[0;36m_as_graph_element_locked\u001b[0;34m(self, obj, allow_tensor, allow_operation)\u001b[0m\n\u001b[1;32m   2493\u001b[0m       raise TypeError(\"Can not convert a %s into a %s.\"\n\u001b[0;32m-> 2494\u001b[0;31m                       % (type(obj).__name__, types_str))\n\u001b[0m\u001b[1;32m   2495\u001b[0m \u001b[0;34m\u001b[0m\u001b[0m\n",
      "\u001b[0;31mTypeError\u001b[0m: Can not convert a float32 into a Tensor or Operation.",
      "\nDuring handling of the above exception, another exception occurred:\n",
      "\u001b[0;31mTypeError\u001b[0m                                 Traceback (most recent call last)",
      "\u001b[0;32m<ipython-input-70-66ee24ca7208>\u001b[0m in \u001b[0;36m<module>\u001b[0;34m()\u001b[0m\n\u001b[1;32m      2\u001b[0m     \u001b[0;32mfor\u001b[0m \u001b[0mnoise_level\u001b[0m \u001b[0;32min\u001b[0m \u001b[0;34m[\u001b[0m\u001b[0;36m0\u001b[0m\u001b[0;34m,\u001b[0m \u001b[0;36m0.1\u001b[0m\u001b[0;34m,\u001b[0m \u001b[0;36m0.5\u001b[0m\u001b[0;34m]\u001b[0m\u001b[0;34m:\u001b[0m\u001b[0;34m\u001b[0m\u001b[0m\n\u001b[1;32m      3\u001b[0m         \u001b[0mprint\u001b[0m\u001b[0;34m(\u001b[0m\u001b[0mn_hidden_dim\u001b[0m\u001b[0;34m,\u001b[0m \u001b[0mnoise_level\u001b[0m\u001b[0;34m)\u001b[0m\u001b[0;34m\u001b[0m\u001b[0m\n\u001b[0;32m----> 4\u001b[0;31m         \u001b[0mtrain_lstm_with_noise\u001b[0m\u001b[0;34m(\u001b[0m\u001b[0mnoise_level\u001b[0m\u001b[0;34m,\u001b[0m \u001b[0mn_hidden_dim\u001b[0m\u001b[0;34m)\u001b[0m\u001b[0;34m\u001b[0m\u001b[0m\n\u001b[0m\u001b[1;32m      5\u001b[0m \u001b[0mprint\u001b[0m\u001b[0;34m(\u001b[0m\u001b[0;36m1\u001b[0m\u001b[0;34m)\u001b[0m\u001b[0;34m\u001b[0m\u001b[0m\n",
      "\u001b[0;32m<ipython-input-69-41c33aab7086>\u001b[0m in \u001b[0;36mtrain_lstm_with_noise\u001b[0;34m(noise_level, n_hidden_dim)\u001b[0m\n\u001b[1;32m    109\u001b[0m \u001b[0;34m\u001b[0m\u001b[0m\n\u001b[1;32m    110\u001b[0m                 \u001b[0m_\u001b[0m\u001b[0;34m,\u001b[0m\u001b[0msumm\u001b[0m\u001b[0;34m,\u001b[0m\u001b[0mloss_val\u001b[0m\u001b[0;34m,\u001b[0m\u001b[0mw_c2\u001b[0m\u001b[0;34m,\u001b[0m\u001b[0mu_c2\u001b[0m \u001b[0;34m=\u001b[0m \u001b[0msess\u001b[0m\u001b[0;34m.\u001b[0m\u001b[0mrun\u001b[0m\u001b[0;34m(\u001b[0m\u001b[0mto_compute\u001b[0m\u001b[0;34m,\u001b[0m \u001b[0mtrain_feed_dict\u001b[0m\u001b[0;34m)\u001b[0m\u001b[0;34m\u001b[0m\u001b[0m\n\u001b[0;32m--> 111\u001b[0;31m                 \u001b[0msess\u001b[0m\u001b[0;34m.\u001b[0m\u001b[0mrun\u001b[0m\u001b[0;34m(\u001b[0m\u001b[0mloss_val\u001b[0m\u001b[0;34m)\u001b[0m\u001b[0;34m\u001b[0m\u001b[0m\n\u001b[0m\u001b[1;32m    112\u001b[0m                 \u001b[0msess\u001b[0m\u001b[0;34m.\u001b[0m\u001b[0mrun\u001b[0m\u001b[0;34m(\u001b[0m\u001b[0mw_c2\u001b[0m\u001b[0;34m)\u001b[0m\u001b[0;34m\u001b[0m\u001b[0m\n\u001b[1;32m    113\u001b[0m                \u001b[0;31m# w_err = np.linalg.norm(w_c-w_c1)  # compute them and report\u001b[0m\u001b[0;34m\u001b[0m\u001b[0;34m\u001b[0m\u001b[0m\n",
      "\u001b[0;32m/share/pkg/tensorflow/r1.0_python-3.6.0/install/site-packages/tensorflow/python/client/session.py\u001b[0m in \u001b[0;36mrun\u001b[0;34m(self, fetches, feed_dict, options, run_metadata)\u001b[0m\n\u001b[1;32m    765\u001b[0m     \u001b[0;32mtry\u001b[0m\u001b[0;34m:\u001b[0m\u001b[0;34m\u001b[0m\u001b[0m\n\u001b[1;32m    766\u001b[0m       result = self._run(None, fetches, feed_dict, options_ptr,\n\u001b[0;32m--> 767\u001b[0;31m                          run_metadata_ptr)\n\u001b[0m\u001b[1;32m    768\u001b[0m       \u001b[0;32mif\u001b[0m \u001b[0mrun_metadata\u001b[0m\u001b[0;34m:\u001b[0m\u001b[0;34m\u001b[0m\u001b[0m\n\u001b[1;32m    769\u001b[0m         \u001b[0mproto_data\u001b[0m \u001b[0;34m=\u001b[0m \u001b[0mtf_session\u001b[0m\u001b[0;34m.\u001b[0m\u001b[0mTF_GetBuffer\u001b[0m\u001b[0;34m(\u001b[0m\u001b[0mrun_metadata_ptr\u001b[0m\u001b[0;34m)\u001b[0m\u001b[0;34m\u001b[0m\u001b[0m\n",
      "\u001b[0;32m/share/pkg/tensorflow/r1.0_python-3.6.0/install/site-packages/tensorflow/python/client/session.py\u001b[0m in \u001b[0;36m_run\u001b[0;34m(self, handle, fetches, feed_dict, options, run_metadata)\u001b[0m\n\u001b[1;32m    950\u001b[0m \u001b[0;34m\u001b[0m\u001b[0m\n\u001b[1;32m    951\u001b[0m     \u001b[0;31m# Create a fetch handler to take care of the structure of fetches.\u001b[0m\u001b[0;34m\u001b[0m\u001b[0;34m\u001b[0m\u001b[0m\n\u001b[0;32m--> 952\u001b[0;31m     \u001b[0mfetch_handler\u001b[0m \u001b[0;34m=\u001b[0m \u001b[0m_FetchHandler\u001b[0m\u001b[0;34m(\u001b[0m\u001b[0mself\u001b[0m\u001b[0;34m.\u001b[0m\u001b[0m_graph\u001b[0m\u001b[0;34m,\u001b[0m \u001b[0mfetches\u001b[0m\u001b[0;34m,\u001b[0m \u001b[0mfeed_dict_string\u001b[0m\u001b[0;34m)\u001b[0m\u001b[0;34m\u001b[0m\u001b[0m\n\u001b[0m\u001b[1;32m    953\u001b[0m \u001b[0;34m\u001b[0m\u001b[0m\n\u001b[1;32m    954\u001b[0m     \u001b[0;31m# Run request and get response.\u001b[0m\u001b[0;34m\u001b[0m\u001b[0;34m\u001b[0m\u001b[0m\n",
      "\u001b[0;32m/share/pkg/tensorflow/r1.0_python-3.6.0/install/site-packages/tensorflow/python/client/session.py\u001b[0m in \u001b[0;36m__init__\u001b[0;34m(self, graph, fetches, feeds)\u001b[0m\n\u001b[1;32m    406\u001b[0m     \"\"\"\n\u001b[1;32m    407\u001b[0m     \u001b[0;32mwith\u001b[0m \u001b[0mgraph\u001b[0m\u001b[0;34m.\u001b[0m\u001b[0mas_default\u001b[0m\u001b[0;34m(\u001b[0m\u001b[0;34m)\u001b[0m\u001b[0;34m:\u001b[0m\u001b[0;34m\u001b[0m\u001b[0m\n\u001b[0;32m--> 408\u001b[0;31m       \u001b[0mself\u001b[0m\u001b[0;34m.\u001b[0m\u001b[0m_fetch_mapper\u001b[0m \u001b[0;34m=\u001b[0m \u001b[0m_FetchMapper\u001b[0m\u001b[0;34m.\u001b[0m\u001b[0mfor_fetch\u001b[0m\u001b[0;34m(\u001b[0m\u001b[0mfetches\u001b[0m\u001b[0;34m)\u001b[0m\u001b[0;34m\u001b[0m\u001b[0m\n\u001b[0m\u001b[1;32m    409\u001b[0m     \u001b[0mself\u001b[0m\u001b[0;34m.\u001b[0m\u001b[0m_fetches\u001b[0m \u001b[0;34m=\u001b[0m \u001b[0;34m[\u001b[0m\u001b[0;34m]\u001b[0m\u001b[0;34m\u001b[0m\u001b[0m\n\u001b[1;32m    410\u001b[0m     \u001b[0mself\u001b[0m\u001b[0;34m.\u001b[0m\u001b[0m_targets\u001b[0m \u001b[0;34m=\u001b[0m \u001b[0;34m[\u001b[0m\u001b[0;34m]\u001b[0m\u001b[0;34m\u001b[0m\u001b[0m\n",
      "\u001b[0;32m/share/pkg/tensorflow/r1.0_python-3.6.0/install/site-packages/tensorflow/python/client/session.py\u001b[0m in \u001b[0;36mfor_fetch\u001b[0;34m(fetch)\u001b[0m\n\u001b[1;32m    236\u001b[0m         \u001b[0;32mif\u001b[0m \u001b[0misinstance\u001b[0m\u001b[0;34m(\u001b[0m\u001b[0mfetch\u001b[0m\u001b[0;34m,\u001b[0m \u001b[0mtensor_type\u001b[0m\u001b[0;34m)\u001b[0m\u001b[0;34m:\u001b[0m\u001b[0;34m\u001b[0m\u001b[0m\n\u001b[1;32m    237\u001b[0m           \u001b[0mfetches\u001b[0m\u001b[0;34m,\u001b[0m \u001b[0mcontraction_fn\u001b[0m \u001b[0;34m=\u001b[0m \u001b[0mfetch_fn\u001b[0m\u001b[0;34m(\u001b[0m\u001b[0mfetch\u001b[0m\u001b[0;34m)\u001b[0m\u001b[0;34m\u001b[0m\u001b[0m\n\u001b[0;32m--> 238\u001b[0;31m           \u001b[0;32mreturn\u001b[0m \u001b[0m_ElementFetchMapper\u001b[0m\u001b[0;34m(\u001b[0m\u001b[0mfetches\u001b[0m\u001b[0;34m,\u001b[0m \u001b[0mcontraction_fn\u001b[0m\u001b[0;34m)\u001b[0m\u001b[0;34m\u001b[0m\u001b[0m\n\u001b[0m\u001b[1;32m    239\u001b[0m     \u001b[0;31m# Did not find anything.\u001b[0m\u001b[0;34m\u001b[0m\u001b[0;34m\u001b[0m\u001b[0m\n\u001b[1;32m    240\u001b[0m     raise TypeError('Fetch argument %r has invalid type %r' %\n",
      "\u001b[0;32m/share/pkg/tensorflow/r1.0_python-3.6.0/install/site-packages/tensorflow/python/client/session.py\u001b[0m in \u001b[0;36m__init__\u001b[0;34m(self, fetches, contraction_fn)\u001b[0m\n\u001b[1;32m    269\u001b[0m         raise TypeError('Fetch argument %r has invalid type %r, '\n\u001b[1;32m    270\u001b[0m                         \u001b[0;34m'must be a string or Tensor. (%s)'\u001b[0m\u001b[0;34m\u001b[0m\u001b[0m\n\u001b[0;32m--> 271\u001b[0;31m                         % (fetch, type(fetch), str(e)))\n\u001b[0m\u001b[1;32m    272\u001b[0m       \u001b[0;32mexcept\u001b[0m \u001b[0mValueError\u001b[0m \u001b[0;32mas\u001b[0m \u001b[0me\u001b[0m\u001b[0;34m:\u001b[0m\u001b[0;34m\u001b[0m\u001b[0m\n\u001b[1;32m    273\u001b[0m         raise ValueError('Fetch argument %r cannot be interpreted as a '\n",
      "\u001b[0;31mTypeError\u001b[0m: Fetch argument 16.086859 has invalid type <class 'numpy.float32'>, must be a string or Tensor. (Can not convert a float32 into a Tensor or Operation.)"
     ]
    }
   ],
   "source": []
  },
  {
   "cell_type": "markdown",
   "metadata": {
    "deletable": true,
    "editable": true
   },
   "source": [
    "## Part 3: Neural Tolstoy Model (a character-prediction LSTM)\n",
    "\n",
    "(20 points)\n",
    "\n",
    "In this part you will train a character prediction LSTM that predicts the next character given previous characters. \n",
    "The training data is from the book \"War and Peace\" by Leo Tolstoy. \n",
    "\n",
    "### Q3.\n",
    "Compared to the LSTM you implemented in the previous part, the main difference in the character prediction LSTM is that it predicts *discrete* outputs (characters, or their indices in the vocabulary), therefore it is a classification model. As you may recall, the usual choice of loss function for classification is softmax + cross entropy.\n",
    "\n",
    "We have already provided functions for loading the training data. Please define your discrete LSTM in `build_lstm_discrete_prediction_model()`.\n",
    "\n",
    "Hints: \n",
    "- Your LSTM should predict a single character at a time. (That's why it's called a character prediction LSTM.) We are not considering  many-to-many LSTMs here.\n",
    "- Feeding the previous input into the LSTM should help."
   ]
  },
  {
   "cell_type": "code",
   "execution_count": 1,
   "metadata": {
    "collapsed": false,
    "deletable": true,
    "editable": true,
    "scrolled": true
   },
   "outputs": [],
   "source": [
    "import tolstoy_reader\n",
    "\n",
    "def get_default_gpu_session(fraction=0.333):\n",
    "    config = tf.ConfigProto(allow_soft_placement=True)\n",
    "    config.gpu_options.allow_growth = True\n",
    "    config.gpu_options.per_process_gpu_memory_fraction = fraction\n",
    "    return tf.Session(config=config)\n",
    "\n",
    "def run_tolstoy_train(n_hid):\n",
    "    # generate data\n",
    "    btg, map_dict, backmap_dict = \\\n",
    "        tolstoy_reader.batch_tolstoy_generator(batch_size=200, seq_size=100)\n",
    "    shape = dict(n_steps_per_batch=100, n_unique_ids=len(map_dict), n_hidden_dim=n_hid)\n",
    "    # define LSTM\n",
    "    model = build_lstm_discrete_prediction_model(shape)\n",
    "    \n",
    "    #logdir = './tensorboard/tolstoy'  # if on Windows\n",
    "    logdir = '/usr4/dlearn/chhari/tensorboard/tolstoy'  # if on Unix\n",
    "    try:\n",
    "        os.makedirs(logdir)\n",
    "    except os.error:\n",
    "        pass\n",
    "    time_now = datetime.datetime.now().strftime(\"%d-%b-%H-%M-%S\")\n",
    "    run_name = 'hidden=%d' % n_hid\n",
    "    sum_path = os.path.join(logdir, run_name + '_' + time_now)\n",
    "    print(sum_path)\n",
    "    max_iter_i = 0\n",
    "    with model['graph'].as_default() as g, get_default_gpu_session(0.9) as sess:\n",
    "        sess.run(tf.global_variables_initializer())\n",
    "        sum_writer = tf.summary.FileWriter(sum_path, g)\n",
    "        for epoch_i in range(10):\n",
    "            for iter_i, data_batch in enumerate(btg):\n",
    "                max_iter_i = max(iter_i, max_iter_i)\n",
    "                global_step = epoch_i*max_iter_i+iter_i\n",
    "                \n",
    "                # run training step\n",
    "                train_feed_dict = dict(zip(model['inputs'], data_batch))\n",
    "                to_compute = [model['train_op'], model['summ'], model['loss']]\n",
    "                _, summ, loss_val = sess.run(to_compute, train_feed_dict)\n",
    "                \n",
    "                # for tensorboard\n",
    "                sum_writer.add_summary(summ, global_step)\n",
    "                sum_writer.flush()\n",
    "                \n",
    "                # display loss\n",
    "                if iter_i % 100 == 0:\n",
    "                    print(loss_val, end=', ')\n",
    "                if iter_i % 1000:\n",
    "                    continue\n",
    "                # test generation\n",
    "                pred_length = 50\n",
    "                data_input = next(iter(btg))[0][[0]]\n",
    "                original_sample = data_input.copy()\n",
    "                pred_seq = []\n",
    "                for _ in range(pred_length):\n",
    "                    pred = sess.run(model['pred'], {model['inputs'][0]: data_input})\n",
    "                    pred_seq.append(pred[0])\n",
    "                    data_input = np.roll(data_input, -1, axis=1)\n",
    "                    data_input[0, -1] = pred[0]\n",
    "                print('[%d] Input text:' % (iter_i))\n",
    "                print(''.join([backmap_dict[x] for x in original_sample[0]]))\n",
    "                print('[%d] Generated continuation:' % (iter_i))\n",
    "                print(''.join([backmap_dict[x] for x in pred_seq]))\n",
    "                print(pred_seq)\n",
    "                print()\n",
    "                \n",
    "def build_lstm_discrete_prediction_model(shape):\n",
    "    # shape is dict with keys:\n",
    "    # n_steps_per_batch, n_unique_ids, n_hidden_dim\n",
    "    with tf.Graph().as_default() as g:\n",
    "        ix = tf.Variable(tf.truncated_normal([shape['n_unique_ids'], shape['n_hidden_dim']], -0.1, 0.1))\n",
    "        im = tf.Variable(tf.truncated_normal([shape['n_hidden_dim'], shape['n_hidden_dim']], -0.1, 0.1))\n",
    "        ib = tf.Variable(tf.zeros([1, shape['n_hidden_dim']]))\n",
    "          # Forget gate: input, previous output, and bias.\n",
    "        fx = tf.Variable(tf.truncated_normal([shape['n_unique_ids'], shape['n_hidden_dim']], -0.1, 0.1))\n",
    "        fm = tf.Variable(tf.truncated_normal([shape['n_hidden_dim'], shape['n_hidden_dim']], -0.1, 0.1))\n",
    "        fb = tf.Variable(tf.zeros([1, shape['n_hidden_dim']]))\n",
    "          # Memory cell: input, state and bias.                             \n",
    "        cx = tf.Variable(tf.truncated_normal([shape['n_unique_ids'], shape['n_hidden_dim']], -0.1, 0.1))\n",
    "        cm = tf.Variable(tf.truncated_normal([shape['n_hidden_dim'], shape['n_hidden_dim']], -0.1, 0.1))\n",
    "        cb = tf.Variable(tf.zeros([1, shape['n_hidden_dim']]))\n",
    "          # Output gate: input, previous output, and bias.\n",
    "        ox = tf.Variable(tf.truncated_normal([shape['n_unique_ids'], shape['n_hidden_dim']], -0.1, 0.1))\n",
    "        om = tf.Variable(tf.truncated_normal([shape['n_hidden_dim'], shape['n_hidden_dim']], -0.1, 0.1))\n",
    "        ob = tf.Variable(tf.zeros([1, shape['n_hidden_dim']]))\n",
    "          # Variables saving state across unrollings.\n",
    "        saved_output = tf.Variable(tf.zeros([batch_size, shape['n_hidden_dim']]), trainable=False)\n",
    "        saved_state = tf.Variable(tf.zeros([batch_size, shape['n_hidden_dim']]), trainable=False)\n",
    "  # Classifier weights and biases.\n",
    "        X = tf.placeholder(tf.int64, [None, shape['n_steps_per_batch']])\n",
    "        y = tf.placeholder(tf.int64, [None])\n",
    "        \n",
    "        \n",
    "        ################################################################\n",
    "        ####################   PUT YOUR CODE HERE   ####################\n",
    "        # define LSTM parameters (scope: weights)\n",
    "        \n",
    "        with tf.variable_scope('weights'):\n",
    "            w = tf.get_variable('w',[shape['n_hidden_dim'],shape['n_input_dim']])\n",
    "            b = tf.get_variable('b',[shape['n_hidden_dim']])\n",
    "        outputs = []\n",
    "        for t in range(shape['n_steps_per_batch']):\n",
    "            i = X[:, t]\n",
    "            input_gate = tf.sigmoid(tf.matmul(i, ix) + tf.matmul(o, im) + ib)\n",
    "            forget_gate = tf.sigmoid(tf.matmul(i, fx) + tf.matmul(o, fm) + fb)\n",
    "            update = tf.matmul(i, cx) + tf.matmul(o, cm) + cb\n",
    "            state = forget_gate * state + input_gate * tf.tanh(update)\n",
    "            output_gate = tf.sigmoid(tf.matmul(i, ox) + tf.matmul(o, om) + ob)\n",
    "            outputs.append(output_gate * tf.tanh(state))\n",
    "        logits = tf.nn.xw_plus_b(tf.concat(outputs, 0), w, b)  # compute logits for each discrete output\n",
    "        loss = tf.reduce_mean(tf.nn.softmax_cross_entropy_with_logits(labels=tf.concat(y, 0), logits=logits))  # compute loss with respect to (logits, y)\n",
    "        ################################################################\n",
    "\n",
    "        # pred, train_op\n",
    "        pred = tf.argmax(logits, axis=1)\n",
    "        train_op = tf.train.AdamOptimizer().minimize(loss)\n",
    "        summ = tf.summary.scalar('loss_summ', loss)\n",
    "\n",
    "    return {'inputs': [X, y], 'loss': loss, 'train_op': train_op, 'summ': summ,\n",
    "            'graph': g, 'pred': pred}"
   ]
  },
  {
   "cell_type": "markdown",
   "metadata": {
    "deletable": true,
    "editable": true
   },
   "source": [
    "Run the LSTM and see what it says! "
   ]
  },
  {
   "cell_type": "code",
   "execution_count": 2,
   "metadata": {
    "collapsed": false,
    "deletable": true,
    "editable": true,
    "scrolled": true
   },
   "outputs": [
    {
     "ename": "UnicodeDecodeError",
     "evalue": "'ascii' codec can't decode byte 0xef in position 0: ordinal not in range(128)",
     "output_type": "error",
     "traceback": [
      "\u001b[0;31m---------------------------------------------------------------------------\u001b[0m",
      "\u001b[0;31mUnicodeDecodeError\u001b[0m                        Traceback (most recent call last)",
      "\u001b[0;32m<ipython-input-2-feecdd661e0d>\u001b[0m in \u001b[0;36m<module>\u001b[0;34m()\u001b[0m\n\u001b[1;32m      1\u001b[0m \u001b[0mhidden\u001b[0m \u001b[0;34m=\u001b[0m \u001b[0;36m200\u001b[0m\u001b[0;34m\u001b[0m\u001b[0m\n\u001b[0;32m----> 2\u001b[0;31m \u001b[0mrun_tolstoy_train\u001b[0m\u001b[0;34m(\u001b[0m\u001b[0mhidden\u001b[0m\u001b[0;34m)\u001b[0m\u001b[0;34m\u001b[0m\u001b[0m\n\u001b[0m",
      "\u001b[0;32m<ipython-input-1-29d3ddb460c3>\u001b[0m in \u001b[0;36mrun_tolstoy_train\u001b[0;34m(n_hid)\u001b[0m\n\u001b[1;32m      9\u001b[0m \u001b[0;32mdef\u001b[0m \u001b[0mrun_tolstoy_train\u001b[0m\u001b[0;34m(\u001b[0m\u001b[0mn_hid\u001b[0m\u001b[0;34m)\u001b[0m\u001b[0;34m:\u001b[0m\u001b[0;34m\u001b[0m\u001b[0m\n\u001b[1;32m     10\u001b[0m     \u001b[0;31m# generate data\u001b[0m\u001b[0;34m\u001b[0m\u001b[0;34m\u001b[0m\u001b[0m\n\u001b[0;32m---> 11\u001b[0;31m     \u001b[0mbtg\u001b[0m\u001b[0;34m,\u001b[0m \u001b[0mmap_dict\u001b[0m\u001b[0;34m,\u001b[0m \u001b[0mbackmap_dict\u001b[0m \u001b[0;34m=\u001b[0m         \u001b[0mtolstoy_reader\u001b[0m\u001b[0;34m.\u001b[0m\u001b[0mbatch_tolstoy_generator\u001b[0m\u001b[0;34m(\u001b[0m\u001b[0mbatch_size\u001b[0m\u001b[0;34m=\u001b[0m\u001b[0;36m200\u001b[0m\u001b[0;34m,\u001b[0m \u001b[0mseq_size\u001b[0m\u001b[0;34m=\u001b[0m\u001b[0;36m100\u001b[0m\u001b[0;34m)\u001b[0m\u001b[0;34m\u001b[0m\u001b[0m\n\u001b[0m\u001b[1;32m     12\u001b[0m     \u001b[0mshape\u001b[0m \u001b[0;34m=\u001b[0m \u001b[0mdict\u001b[0m\u001b[0;34m(\u001b[0m\u001b[0mn_steps_per_batch\u001b[0m\u001b[0;34m=\u001b[0m\u001b[0;36m100\u001b[0m\u001b[0;34m,\u001b[0m \u001b[0mn_unique_ids\u001b[0m\u001b[0;34m=\u001b[0m\u001b[0mlen\u001b[0m\u001b[0;34m(\u001b[0m\u001b[0mmap_dict\u001b[0m\u001b[0;34m)\u001b[0m\u001b[0;34m,\u001b[0m \u001b[0mn_hidden_dim\u001b[0m\u001b[0;34m=\u001b[0m\u001b[0mn_hid\u001b[0m\u001b[0;34m)\u001b[0m\u001b[0;34m\u001b[0m\u001b[0m\n\u001b[1;32m     13\u001b[0m     \u001b[0;31m# define LSTM\u001b[0m\u001b[0;34m\u001b[0m\u001b[0;34m\u001b[0m\u001b[0m\n",
      "\u001b[0;32m/usr4/dlearn/chhari/cs591s2/pset5/tolstoy_reader.py\u001b[0m in \u001b[0;36mbatch_tolstoy_generator\u001b[0;34m(*arvg, **kwargs)\u001b[0m\n\u001b[1;32m     64\u001b[0m \u001b[0;34m\u001b[0m\u001b[0m\n\u001b[1;32m     65\u001b[0m \u001b[0;32mdef\u001b[0m \u001b[0mbatch_tolstoy_generator\u001b[0m\u001b[0;34m(\u001b[0m\u001b[0;34m*\u001b[0m\u001b[0marvg\u001b[0m\u001b[0;34m,\u001b[0m \u001b[0;34m**\u001b[0m\u001b[0mkwargs\u001b[0m\u001b[0;34m)\u001b[0m\u001b[0;34m:\u001b[0m\u001b[0;34m\u001b[0m\u001b[0m\n\u001b[0;32m---> 66\u001b[0;31m     \u001b[0mid_seq\u001b[0m\u001b[0;34m,\u001b[0m \u001b[0mchar2int_dict\u001b[0m\u001b[0;34m,\u001b[0m \u001b[0mint2char_dict\u001b[0m \u001b[0;34m=\u001b[0m \u001b[0m_read_dataset_war_and_peace\u001b[0m\u001b[0;34m(\u001b[0m\u001b[0;34m)\u001b[0m\u001b[0;34m\u001b[0m\u001b[0m\n\u001b[0m\u001b[1;32m     67\u001b[0m     \u001b[0mgen\u001b[0m \u001b[0;34m=\u001b[0m \u001b[0m_batch_tolstoy_generator\u001b[0m\u001b[0;34m(\u001b[0m\u001b[0mid_seq\u001b[0m\u001b[0;34m,\u001b[0m \u001b[0;34m*\u001b[0m\u001b[0marvg\u001b[0m\u001b[0;34m,\u001b[0m \u001b[0;34m**\u001b[0m\u001b[0mkwargs\u001b[0m\u001b[0;34m)\u001b[0m\u001b[0;34m\u001b[0m\u001b[0m\n\u001b[1;32m     68\u001b[0m     \u001b[0;32mreturn\u001b[0m \u001b[0mgen\u001b[0m\u001b[0;34m,\u001b[0m \u001b[0mchar2int_dict\u001b[0m\u001b[0;34m,\u001b[0m \u001b[0mint2char_dict\u001b[0m\u001b[0;34m\u001b[0m\u001b[0m\n",
      "\u001b[0;32m/usr4/dlearn/chhari/cs591s2/pset5/tolstoy_reader.py\u001b[0m in \u001b[0;36m_read_dataset_war_and_peace\u001b[0;34m()\u001b[0m\n\u001b[1;32m     39\u001b[0m \u001b[0;34m\u001b[0m\u001b[0m\n\u001b[1;32m     40\u001b[0m     \u001b[0;32mwith\u001b[0m \u001b[0mopen\u001b[0m\u001b[0;34m(\u001b[0m\u001b[0mfile_path\u001b[0m\u001b[0;34m,\u001b[0m \u001b[0;34m'r'\u001b[0m\u001b[0;34m)\u001b[0m \u001b[0;32mas\u001b[0m \u001b[0mf\u001b[0m\u001b[0;34m:\u001b[0m\u001b[0;34m\u001b[0m\u001b[0m\n\u001b[0;32m---> 41\u001b[0;31m         \u001b[0mfile_content\u001b[0m \u001b[0;34m=\u001b[0m \u001b[0mf\u001b[0m\u001b[0;34m.\u001b[0m\u001b[0mread\u001b[0m\u001b[0;34m(\u001b[0m\u001b[0;34m)\u001b[0m\u001b[0;34m\u001b[0m\u001b[0m\n\u001b[0m\u001b[1;32m     42\u001b[0m \u001b[0;34m\u001b[0m\u001b[0m\n\u001b[1;32m     43\u001b[0m     \u001b[0mfile_content\u001b[0m \u001b[0;34m=\u001b[0m \u001b[0mre\u001b[0m\u001b[0;34m.\u001b[0m\u001b[0msub\u001b[0m\u001b[0;34m(\u001b[0m\u001b[0;34m' +'\u001b[0m\u001b[0;34m,\u001b[0m \u001b[0;34m' '\u001b[0m\u001b[0;34m,\u001b[0m \u001b[0mfile_content\u001b[0m\u001b[0;34m.\u001b[0m\u001b[0mreplace\u001b[0m\u001b[0;34m(\u001b[0m\u001b[0;34m'\\n'\u001b[0m\u001b[0;34m,\u001b[0m \u001b[0;34m' '\u001b[0m\u001b[0;34m)\u001b[0m\u001b[0;34m)\u001b[0m\u001b[0;34m\u001b[0m\u001b[0m\n",
      "\u001b[0;32m/share/pkg/python/3.6.0/install/lib/python3.6/encodings/ascii.py\u001b[0m in \u001b[0;36mdecode\u001b[0;34m(self, input, final)\u001b[0m\n\u001b[1;32m     24\u001b[0m \u001b[0;32mclass\u001b[0m \u001b[0mIncrementalDecoder\u001b[0m\u001b[0;34m(\u001b[0m\u001b[0mcodecs\u001b[0m\u001b[0;34m.\u001b[0m\u001b[0mIncrementalDecoder\u001b[0m\u001b[0;34m)\u001b[0m\u001b[0;34m:\u001b[0m\u001b[0;34m\u001b[0m\u001b[0m\n\u001b[1;32m     25\u001b[0m     \u001b[0;32mdef\u001b[0m \u001b[0mdecode\u001b[0m\u001b[0;34m(\u001b[0m\u001b[0mself\u001b[0m\u001b[0;34m,\u001b[0m \u001b[0minput\u001b[0m\u001b[0;34m,\u001b[0m \u001b[0mfinal\u001b[0m\u001b[0;34m=\u001b[0m\u001b[0;32mFalse\u001b[0m\u001b[0;34m)\u001b[0m\u001b[0;34m:\u001b[0m\u001b[0;34m\u001b[0m\u001b[0m\n\u001b[0;32m---> 26\u001b[0;31m         \u001b[0;32mreturn\u001b[0m \u001b[0mcodecs\u001b[0m\u001b[0;34m.\u001b[0m\u001b[0mascii_decode\u001b[0m\u001b[0;34m(\u001b[0m\u001b[0minput\u001b[0m\u001b[0;34m,\u001b[0m \u001b[0mself\u001b[0m\u001b[0;34m.\u001b[0m\u001b[0merrors\u001b[0m\u001b[0;34m)\u001b[0m\u001b[0;34m[\u001b[0m\u001b[0;36m0\u001b[0m\u001b[0;34m]\u001b[0m\u001b[0;34m\u001b[0m\u001b[0m\n\u001b[0m\u001b[1;32m     27\u001b[0m \u001b[0;34m\u001b[0m\u001b[0m\n\u001b[1;32m     28\u001b[0m \u001b[0;32mclass\u001b[0m \u001b[0mStreamWriter\u001b[0m\u001b[0;34m(\u001b[0m\u001b[0mCodec\u001b[0m\u001b[0;34m,\u001b[0m\u001b[0mcodecs\u001b[0m\u001b[0;34m.\u001b[0m\u001b[0mStreamWriter\u001b[0m\u001b[0;34m)\u001b[0m\u001b[0;34m:\u001b[0m\u001b[0;34m\u001b[0m\u001b[0m\n",
      "\u001b[0;31mUnicodeDecodeError\u001b[0m: 'ascii' codec can't decode byte 0xef in position 0: ordinal not in range(128)"
     ]
    }
   ],
   "source": [
    "hidden = 200\n",
    "run_tolstoy_train(hidden)"
   ]
  },
  {
   "cell_type": "code",
   "execution_count": null,
   "metadata": {
    "collapsed": false
   },
   "outputs": [],
   "source": []
  },
  {
   "cell_type": "code",
   "execution_count": 3,
   "metadata": {
    "collapsed": false
   },
   "outputs": [
    {
     "name": "stdout",
     "output_type": "stream",
     "text": [
      "I tried to correct the above error , I dont know which version is this , I used\n",
      "python-3.6.0 and 2.7.13 both are giving different error I think my could be almost right\n"
     ]
    }
   ],
   "source": [
    "print('I tried to correct the above error , I dont know which version is this , I used')\n",
    "print('python-3.6.0 and 2.7.13 both are giving different error I think my could be almost right')"
   ]
  },
  {
   "cell_type": "markdown",
   "metadata": {
    "deletable": true,
    "editable": true
   },
   "source": [
    "## Part 4: Multi-modal Restricted Boltzmann Machines\n",
    "\n",
    "(30 points)\n",
    "\n",
    "- Relevant reading: Goodfellow chapter 20 through 20.8, in particular 20.2 and 20.3. Also see the [lecture notes](https://drive.google.com/file/d/0B8xkaMshuaF9dFVRclo3RENKdUk/view?usp=sharing).\n",
    "\n",
    "For this question, we will consider designing an unsupervised probability distribution  over two modalities.  Suppose we have data consisting of images and their associated captions, so that each input data point may be thought of as the pair $(t,v)$, where $t = (t_1, ..., t_n)$ is the text data and $v = (v_1, ..., v_m)$ is the visual data.  For simplicity, we will consider both as vector inputs (so, for instance, we will not be considering any two-dimensional convolutions for the visual data); the main difference between the two inputs is that the text input is discrete-valued, where we assume that each $t_i$ can take on $k$ different values, and each visual input is real-valued.\n",
    "\n",
    "Following our discussion of Restricted Boltzmann Machines (RBMs), we will further consider a hidden layer with **binary** hidden units $(h_1, ..., h_d)$, and define a joint probability distribution over an input data point and a hidden layer.  In particular, let us define two matrices $W_t\\in\\mathbb{R}^{n\\times d}$ and $W_v\\in\\mathbb{R}^{m\\times d}$; these matrices correspond to weights between text input and hidden units, and weights between visual input and hidden units, respectively.  In addition, we have the bias vectors $a$, $b$, and $c$, associated with the text, visual, and hidden units, respectively.\n",
    "The multi-modal RBM is illustrated below.\n",
    "\n",
    "<img src=\"MultimodalRBM.png\" width=\"550\">\n",
    "\n",
    "Next we define the joint probability distribution $p(t,v,h)$ over text inputs, visual inputs, and hidden states.  First we let the energy function be: \n",
    "\n",
    "$E(v,t,h) = -t^T W_t h - v^T W_v h - a^T t + (0.5 b^Tb - b^T v + 0.5 v^T v) - c^T h$.\n",
    "\n",
    "Then let the joint probability be defined as:\n",
    "\n",
    "$p(v,t,h) = \\frac{1}{Z}exp(-E(v,t,h)),$\n",
    "\n",
    "where $Z$ is the normalizing constant that ensures that the probability distribution is properly normalized to sum/integrate to one.\n",
    "\n",
    "Our goal is to perform maximum likelihood estimation for the parameters $W_t$, $W_v$, and $c$ (we will assume $a$ and $b$ are fixed and known), given a set of $N$ data points $D = \\{(t^{(1)},v^{(1)}), ..., (t^{(N)},v^{(N)})\\}$.  As is typical in such settings, we assume that the data in $D$ are i.i.d. samples.\n",
    "\n",
    "Please write your solutions in the cells below, or hand in a hard copy.\n",
    "For each question you must show your work to receive full credit."
   ]
  },
  {
   "cell_type": "markdown",
   "metadata": {
    "deletable": true,
    "editable": true
   },
   "source": [
    "### Q4.1 \n",
    "\n",
    "Write down the marginal probability for a single data point $(t^{(1)}, v^{(1)})$, namely $p(t^{(1)}, v^{(1)})$. Treating this probability as the likelihood for a single point, write down the log-likelihood for the entire data set $D$ as a function of the parameters $(W_t, W_v,  c)$."
   ]
  },
  {
   "cell_type": "markdown",
   "metadata": {
    "deletable": true,
    "editable": true
   },
   "source": [
    "**[Put your answer here]**"
   ]
  },
  {
   "cell_type": "markdown",
   "metadata": {
    "deletable": true,
    "editable": true
   },
   "source": [
    "### Q4.2 \n",
    "\n",
    "Write down the partial derivative of $E(t,v,h)$ with respect to each of the parameters, i.e., each entry of $W_t$, each entry of $W_v$, and each entry of $c$. You can also directly write in matrix/vector forms.\n"
   ]
  },
  {
   "cell_type": "markdown",
   "metadata": {
    "deletable": true,
    "editable": true
   },
   "source": [
    "**[Put your answer here]**"
   ]
  },
  {
   "cell_type": "markdown",
   "metadata": {
    "deletable": true,
    "editable": true
   },
   "source": [
    "### Q4.3 \n",
    "\n",
    "Derive the conditional distributions $p(h | v, t)$, $p(v | h)$ and $p(t | h)$, either in elementwise form or in vector form.\n",
    "Also establish that $v$ and $t$ are conditionally independent given $h$."
   ]
  },
  {
   "cell_type": "markdown",
   "metadata": {
    "deletable": true,
    "editable": true
   },
   "source": [
    "**[Put your answer here]**"
   ]
  },
  {
   "cell_type": "markdown",
   "metadata": {
    "deletable": true,
    "editable": true
   },
   "source": [
    "### Q4.4\n",
    "\n",
    "Write down the partial derivative of the log-likelihood for $D$ with respect to each of the parameters."
   ]
  },
  {
   "cell_type": "markdown",
   "metadata": {
    "deletable": true,
    "editable": true
   },
   "source": [
    "**[Put your answer here]**"
   ]
  },
  {
   "cell_type": "markdown",
   "metadata": {
    "collapsed": true,
    "deletable": true,
    "editable": true
   },
   "source": [
    "### Q4.5 \n",
    "\n",
    "Extend the contrastive divergence approach for standard RBMs, as discussed in class, to suggest a gradient ascent procedure for learning the parameters of our multi-modal RBM."
   ]
  },
  {
   "cell_type": "code",
   "execution_count": null,
   "metadata": {
    "collapsed": true,
    "deletable": true,
    "editable": true
   },
   "outputs": [],
   "source": []
  },
  {
   "cell_type": "markdown",
   "metadata": {
    "deletable": true,
    "editable": true
   },
   "source": [
    "**[Put your answer here]**"
   ]
  }
 ],
 "metadata": {
  "kernelspec": {
   "display_name": "Python 3",
   "language": "python",
   "name": "python3"
  },
  "language_info": {
   "codemirror_mode": {
    "name": "ipython",
    "version": 3
   },
   "file_extension": ".py",
   "mimetype": "text/x-python",
   "name": "python",
   "nbconvert_exporter": "python",
   "pygments_lexer": "ipython3",
   "version": "3.6.0"
  }
 },
 "nbformat": 4,
 "nbformat_minor": 0
}
